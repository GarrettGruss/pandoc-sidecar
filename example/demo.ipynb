{
 "cells": [
  {
   "cell_type": "markdown",
   "id": "9twzs0ruk3k",
   "metadata": {},
   "source": [
    "# Pandoc Sidecar Demo\n",
    "\n",
    "This notebook demonstrates how to use the pandoc/extra CLI to render LaTeX files."
   ]
  },
  {
   "cell_type": "markdown",
   "id": "2vjm1wo18eu",
   "source": "## Prerequisites\n\nBefore running this demo, ensure you have the following installed:\n- Docker (for containerized pandoc)\n- Minikube (for Kubernetes deployment)\n- Python 3.12+ with subprocess module\n\n## Docker Setup Instructions\n\n### Pull the pandoc/extra image",
   "metadata": {}
  },
  {
   "cell_type": "code",
   "id": "9jk3hf3nfjo",
   "source": "# Pull the pandoc/extra:3.7 image\ntry:\n    print(\"Pulling pandoc/extra:3.7 image...\")\n    result = subprocess.run(['docker', 'pull', 'pandoc/extra:3.7'], \n                          capture_output=True, text=True, check=True)\n    print(\"✓ Successfully pulled pandoc/extra:3.7\")\n    if result.stdout:\n        print(\"Output:\", result.stdout.strip())\nexcept subprocess.CalledProcessError as e:\n    print(f\"✗ Failed to pull image: {e}\")\n    if e.stderr:\n        print(\"Error:\", e.stderr.strip())\nexcept FileNotFoundError:\n    print(\"✗ Docker not found. Please install Docker first.\")",
   "metadata": {},
   "execution_count": null,
   "outputs": []
  },
  {
   "cell_type": "markdown",
   "id": "d7yfzl3g01p",
   "source": "### Verify Docker image and test basic functionality",
   "metadata": {}
  },
  {
   "cell_type": "code",
   "id": "ii30dodd27",
   "source": "# Verify the pandoc/extra image and test basic functionality\ntry:\n    # Check if image exists locally\n    result = subprocess.run(['docker', 'images', 'pandoc/extra:3.7', '--format', 'table'], \n                          capture_output=True, text=True, check=True)\n    print(\"✓ pandoc/extra:3.7 image found locally\")\n    print(\"Image details:\")\n    print(result.stdout)\n    \n    # Test pandoc version in container\n    print(\"\\nTesting pandoc version in container...\")\n    result = subprocess.run(['docker', 'run', '--rm', 'pandoc/extra:3.7', '--version'], \n                          capture_output=True, text=True, check=True)\n    print(\"✓ Pandoc container working\")\n    print(\"Version info:\")\n    print(result.stdout.split('\\n')[0])  # First line contains version\n    \nexcept subprocess.CalledProcessError as e:\n    print(f\"✗ Error testing Docker image: {e}\")\n    if e.stderr:\n        print(\"Error details:\", e.stderr.strip())",
   "metadata": {},
   "execution_count": null,
   "outputs": []
  },
  {
   "cell_type": "markdown",
   "id": "0nod84wbgon9",
   "metadata": {},
   "source": "## 1. Import required modules for CLI execution"
  },
  {
   "cell_type": "code",
   "execution_count": null,
   "id": "5eo75z0uz4r",
   "metadata": {},
   "outputs": [],
   "source": "import subprocess\nimport os\nimport sys"
  },
  {
   "cell_type": "markdown",
   "id": "zil8e5bfcx",
   "metadata": {},
   "source": "## 2. Check pandoc CLI availability"
  },
  {
   "cell_type": "code",
   "execution_count": null,
   "id": "dq2aaj6kl3t",
   "metadata": {},
   "outputs": [],
   "source": "# Check if pandoc is available\ntry:\n    result = subprocess.run(['pandoc', '--version'], \n                          capture_output=True, text=True, check=True)\n    print(\"✓ Pandoc is available\")\n    print(\"Version info:\")\n    print(result.stdout.split('\\n')[0])  # First line contains version\nexcept subprocess.CalledProcessError:\n    print(\"✗ Pandoc not found or error occurred\")\nexcept FileNotFoundError:\n    print(\"✗ Pandoc not installed or not in PATH\")"
  },
  {
   "cell_type": "markdown",
   "id": "198efuxoonu",
   "metadata": {},
   "source": [
    "## 3. Check if input LaTeX file exists"
   ]
  },
  {
   "cell_type": "code",
   "execution_count": null,
   "id": "o8c98x8e6h9",
   "metadata": {},
   "outputs": [],
   "source": [
    "# Check the basic example file\n",
    "input_file = \"test/data/basic_example.tex\"\n",
    "if os.path.exists(input_file):\n",
    "    print(f\"✓ Input file found: {input_file}\")\n",
    "    \n",
    "    # Read and display the LaTeX content\n",
    "    with open(input_file, 'r') as f:\n",
    "        content = f.read()\n",
    "    print(\"\\nLaTeX content:\")\n",
    "    print(content)\n",
    "else:\n",
    "    print(f\"✗ Input file not found: {input_file}\")"
   ]
  },
  {
   "cell_type": "markdown",
   "id": "fotukncnz5w",
   "metadata": {},
   "source": [
    "## 4. Render LaTeX to PDF"
   ]
  },
  {
   "cell_type": "code",
   "execution_count": null,
   "id": "qcw6qvl59f",
   "metadata": {},
   "outputs": [],
   "source": "# Render LaTeX to PDF using pandoc CLI\noutput_pdf = \"output/basic_example.pdf\"\n\n# Create output directory if it doesn't exist\nos.makedirs(\"output\", exist_ok=True)\n\ntry:\n    # Use pandoc CLI to convert LaTeX to PDF\n    cmd = ['pandoc', input_file, '-o', output_pdf, '--pdf-engine=pdflatex']\n    result = subprocess.run(cmd, capture_output=True, text=True, check=True)\n    \n    print(f\"✓ PDF rendered successfully: {output_pdf}\")\n    if os.path.exists(output_pdf):\n        file_size = os.path.getsize(output_pdf)\n        print(f\"  File size: {file_size} bytes\")\n    \n    if result.stderr:\n        print(\"Warnings/Info:\")\n        print(result.stderr)\n        \nexcept subprocess.CalledProcessError as e:\n    print(f\"✗ Error rendering PDF: {e}\")\n    if e.stderr:\n        print(\"Error details:\")\n        print(e.stderr)\nexcept FileNotFoundError:\n    print(\"✗ Pandoc not found. Please install pandoc first.\")"
  },
  {
   "cell_type": "markdown",
   "id": "rptbp331gpb",
   "source": "## 5. Render LaTeX to HTML",
   "metadata": {}
  },
  {
   "cell_type": "code",
   "id": "ovmdts708tp",
   "source": "# Render LaTeX to HTML using pandoc CLI\noutput_html = \"output/basic_example.html\"\n\ntry:\n    # Use pandoc CLI to convert LaTeX to HTML\n    cmd = ['pandoc', input_file, '-o', output_html, '--standalone', '--mathjax']\n    result = subprocess.run(cmd, capture_output=True, text=True, check=True)\n    \n    print(f\"✓ HTML rendered successfully: {output_html}\")\n    if os.path.exists(output_html):\n        file_size = os.path.getsize(output_html)\n        print(f\"  File size: {file_size} bytes\")\n        \n        # Display a preview of the HTML content\n        with open(output_html, 'r') as f:\n            html_content = f.read()\n        print(\"\\\\nHTML preview (first 300 characters):\")\n        print(html_content[:300] + \"...\" if len(html_content) > 300 else html_content)\n    \n    if result.stderr:\n        print(\"Warnings/Info:\")\n        print(result.stderr)\n        \nexcept subprocess.CalledProcessError as e:\n    print(f\"✗ Error rendering HTML: {e}\")\n    if e.stderr:\n        print(\"Error details:\")\n        print(e.stderr)",
   "metadata": {},
   "execution_count": null,
   "outputs": []
  },
  {
   "cell_type": "markdown",
   "id": "oizvn2hln1t",
   "source": "## 6. Render LaTeX to Markdown",
   "metadata": {}
  },
  {
   "cell_type": "code",
   "id": "d24cw8g2you",
   "source": "# Render LaTeX to Markdown using pandoc CLI\noutput_md = \"output/basic_example.md\"\n\ntry:\n    # Use pandoc CLI to convert LaTeX to Markdown\n    cmd = ['pandoc', input_file, '-o', output_md, '--from=latex', '--to=markdown']\n    result = subprocess.run(cmd, capture_output=True, text=True, check=True)\n    \n    print(f\"✓ Markdown rendered successfully: {output_md}\")\n    if os.path.exists(output_md):\n        file_size = os.path.getsize(output_md)\n        print(f\"  File size: {file_size} bytes\")\n        \n        # Display the Markdown content\n        with open(output_md, 'r') as f:\n            md_content = f.read()\n        print(\"\\\\nMarkdown content:\")\n        print(md_content)\n    \n    if result.stderr:\n        print(\"Warnings/Info:\")\n        print(result.stderr)\n        \nexcept subprocess.CalledProcessError as e:\n    print(f\"✗ Error rendering Markdown: {e}\")\n    if e.stderr:\n        print(\"Error details:\")\n        print(e.stderr)",
   "metadata": {},
   "execution_count": null,
   "outputs": []
  },
  {
   "cell_type": "markdown",
   "id": "zgsq3vufyur",
   "source": "## 7. List all generated output files",
   "metadata": {}
  },
  {
   "cell_type": "code",
   "id": "emvw9j38yhk",
   "source": "# List all generated output files\nif os.path.exists(\"output\"):\n    print(\"Generated output files:\")\n    for file in sorted(os.listdir(\"output\")):\n        file_path = os.path.join(\"output\", file)\n        if os.path.isfile(file_path):\n            file_size = os.path.getsize(file_path)\n            print(f\"  📄 {file} ({file_size:,} bytes)\")\nelse:\n    print(\"No output directory found\")",
   "metadata": {},
   "execution_count": null,
   "outputs": []
  },
  {
   "cell_type": "markdown",
   "id": "sdwltkdwqfo",
   "source": "## 8. Test with Docker container (pandoc/extra)",
   "metadata": {}
  },
  {
   "cell_type": "code",
   "id": "tz9quar0oas",
   "source": "# Enhanced Docker CLI usage with pandoc/extra:3.7\n# This demonstrates how to use the specific pandoc/extra:3.7 image\n\ndef run_pandoc_docker_3_7(input_file, output_file, extra_args=None):\n    \"\"\"Run pandoc using the pandoc/extra:3.7 Docker image\"\"\"\n    if extra_args is None:\n        extra_args = []\n    \n    # Get absolute paths\n    current_dir = os.path.abspath('.')\n    \n    # Docker command with specific version\n    cmd = [\n        'docker', 'run', '--rm',\n        '-v', f'{current_dir}:/data',\n        'pandoc/extra:3.7',\n        f'/data/{input_file}',\n        '-o', f'/data/{output_file}'\n    ] + extra_args\n    \n    return subprocess.run(cmd, capture_output=True, text=True)\n\n# Test multiple formats with Docker\ntry:\n    print(\"Testing pandoc/extra:3.7 with multiple output formats...\")\n    \n    # Test PDF generation\n    docker_pdf = \"output/docker_3_7_example.pdf\"\n    result = run_pandoc_docker_3_7(input_file, docker_pdf, ['--pdf-engine=pdflatex'])\n    \n    if result.returncode == 0:\n        print(f\"✓ Docker PDF rendered: {docker_pdf}\")\n        if os.path.exists(docker_pdf):\n            file_size = os.path.getsize(docker_pdf)\n            print(f\"  File size: {file_size:,} bytes\")\n    else:\n        print(f\"✗ Docker PDF failed: {result.stderr}\")\n    \n    # Test HTML generation\n    docker_html = \"output/docker_3_7_example.html\"\n    result = run_pandoc_docker_3_7(input_file, docker_html, ['--standalone', '--mathjax'])\n    \n    if result.returncode == 0:\n        print(f\"✓ Docker HTML rendered: {docker_html}\")\n        if os.path.exists(docker_html):\n            file_size = os.path.getsize(docker_html)\n            print(f\"  File size: {file_size:,} bytes\")\n    else:\n        print(f\"✗ Docker HTML failed: {result.stderr}\")\n        \n    # Test DOCX generation\n    docker_docx = \"output/docker_3_7_example.docx\"\n    result = run_pandoc_docker_3_7(input_file, docker_docx)\n    \n    if result.returncode == 0:\n        print(f\"✓ Docker DOCX rendered: {docker_docx}\")\n        if os.path.exists(docker_docx):\n            file_size = os.path.getsize(docker_docx)\n            print(f\"  File size: {file_size:,} bytes\")\n    else:\n        print(f\"✗ Docker DOCX failed: {result.stderr}\")\n        \nexcept Exception as e:\n    print(f\"✗ Docker test failed: {e}\")",
   "metadata": {},
   "execution_count": null,
   "outputs": []
  },
  {
   "cell_type": "markdown",
   "id": "rt6x8uni9us",
   "source": "## Minikube Deployment Instructions\n\n### Setup Minikube and deploy pandoc/extra:3.7",
   "metadata": {}
  },
  {
   "cell_type": "code",
   "id": "jtl2ub4krp",
   "source": "# Check Minikube status and start if needed\ntry:\n    # Check if minikube is running\n    result = subprocess.run(['minikube', 'status'], \n                          capture_output=True, text=True)\n    \n    if result.returncode == 0 and 'Running' in result.stdout:\n        print(\"✓ Minikube is already running\")\n        print(result.stdout)\n    else:\n        print(\"Starting Minikube...\")\n        result = subprocess.run(['minikube', 'start'], \n                              capture_output=True, text=True, check=True)\n        print(\"✓ Minikube started successfully\")\n        \n    # Get minikube version\n    result = subprocess.run(['minikube', 'version'], \n                          capture_output=True, text=True, check=True)\n    print(f\"Minikube version: {result.stdout.split()[2]}\")\n    \nexcept subprocess.CalledProcessError as e:\n    print(f\"✗ Minikube error: {e}\")\n    if e.stderr:\n        print(\"Error details:\", e.stderr.strip())\nexcept FileNotFoundError:\n    print(\"✗ Minikube not found. Please install Minikube first.\")",
   "metadata": {},
   "execution_count": null,
   "outputs": []
  },
  {
   "cell_type": "markdown",
   "id": "rcn9q8ptopj",
   "source": "### Create Kubernetes deployment for pandoc/extra:3.7",
   "metadata": {}
  },
  {
   "cell_type": "code",
   "id": "yk6qkzjc3jm",
   "source": "# Create Kubernetes YAML configuration for pandoc/extra:3.7\nk8s_config = '''apiVersion: v1\nkind: Pod\nmetadata:\n  name: pandoc-extra-pod\n  labels:\n    app: pandoc-extra\nspec:\n  containers:\n  - name: pandoc-container\n    image: pandoc/extra:3.7\n    command: [\"sleep\", \"infinity\"]  # Keep container running\n    volumeMounts:\n    - name: shared-data\n      mountPath: /data\n    resources:\n      requests:\n        memory: \"256Mi\"\n        cpu: \"250m\"\n      limits:\n        memory: \"512Mi\"\n        cpu: \"500m\"\n  volumes:\n  - name: shared-data\n    emptyDir: {}\n---\napiVersion: v1\nkind: Service\nmetadata:\n  name: pandoc-service\nspec:\n  selector:\n    app: pandoc-extra\n  ports:\n  - port: 80\n    targetPort: 8080\n    protocol: TCP\n  type: ClusterIP\n'''\n\n# Write the configuration to a file\nk8s_config_file = \"k8s-pandoc-deployment.yaml\"\nwith open(k8s_config_file, 'w') as f:\n    f.write(k8s_config)\n\nprint(f\"✓ Created Kubernetes configuration: {k8s_config_file}\")\nprint(\"Configuration contents:\")\nprint(k8s_config)",
   "metadata": {},
   "execution_count": null,
   "outputs": []
  },
  {
   "cell_type": "markdown",
   "id": "3n0pn18j8ee",
   "source": "### Deploy to Minikube and test",
   "metadata": {}
  },
  {
   "cell_type": "code",
   "id": "bwecagyalq6",
   "source": "# Deploy to Minikube and test the pandoc pod\ntry:\n    # Apply the Kubernetes configuration\n    print(\"Deploying pandoc/extra:3.7 to Minikube...\")\n    result = subprocess.run(['kubectl', 'apply', '-f', k8s_config_file], \n                          capture_output=True, text=True, check=True)\n    print(\"✓ Deployment applied successfully\")\n    print(result.stdout)\n    \n    # Wait a moment for pod to start\n    import time\n    print(\"Waiting for pod to start...\")\n    time.sleep(5)\n    \n    # Check pod status\n    result = subprocess.run(['kubectl', 'get', 'pods', '-l', 'app=pandoc-extra'], \n                          capture_output=True, text=True, check=True)\n    print(\"Pod status:\")\n    print(result.stdout)\n    \n    # Test pandoc in the pod\n    print(\"\\\\nTesting pandoc in Kubernetes pod...\")\n    result = subprocess.run(['kubectl', 'exec', 'pandoc-extra-pod', '--', 'pandoc', '--version'], \n                          capture_output=True, text=True)\n    \n    if result.returncode == 0:\n        print(\"✓ Pandoc working in Kubernetes pod\")\n        print(\"Version:\", result.stdout.split('\\\\n')[0])\n    else:\n        print(\"Pod might still be starting. Check status with: kubectl get pods\")\n        \n    # Show service status\n    result = subprocess.run(['kubectl', 'get', 'services', 'pandoc-service'], \n                          capture_output=True, text=True)\n    if result.returncode == 0:\n        print(\"\\\\nService status:\")\n        print(result.stdout)\n    \nexcept subprocess.CalledProcessError as e:\n    print(f\"✗ Kubernetes deployment error: {e}\")\n    if e.stderr:\n        print(\"Error details:\", e.stderr.strip())\nexcept FileNotFoundError:\n    print(\"✗ kubectl not found. Please install kubectl first.\")",
   "metadata": {},
   "execution_count": null,
   "outputs": []
  },
  {
   "cell_type": "markdown",
   "id": "6gv9jqk669",
   "source": "### Cleanup Kubernetes resources (optional)",
   "metadata": {}
  },
  {
   "cell_type": "code",
   "id": "9yc31ejgy3",
   "source": "# Cleanup Kubernetes resources when done\n# Uncomment the lines below to clean up the deployment\n\ncleanup = False  # Set to True to perform cleanup\n\nif cleanup:\n    try:\n        print(\"Cleaning up Kubernetes resources...\")\n        \n        # Delete the deployment\n        result = subprocess.run(['kubectl', 'delete', '-f', k8s_config_file], \n                              capture_output=True, text=True, check=True)\n        print(\"✓ Kubernetes resources deleted\")\n        print(result.stdout)\n        \n        # Remove the config file\n        os.remove(k8s_config_file)\n        print(f\"✓ Removed {k8s_config_file}\")\n        \n    except subprocess.CalledProcessError as e:\n        print(f\"✗ Cleanup error: {e}\")\n        if e.stderr:\n            print(\"Error details:\", e.stderr.strip())\nelse:\n    print(\"Cleanup skipped. Set cleanup=True to remove Kubernetes resources.\")\n    print(f\"To manually cleanup later, run: kubectl delete -f {k8s_config_file}\")",
   "metadata": {},
   "execution_count": null,
   "outputs": []
  },
  {
   "cell_type": "code",
   "execution_count": null,
   "id": "d8ec0c50",
   "metadata": {
    "vscode": {
     "languageId": "plaintext"
    }
   },
   "outputs": [],
   "source": []
  }
 ],
 "metadata": {
  "language_info": {
   "name": "python"
  }
 },
 "nbformat": 4,
 "nbformat_minor": 5
}