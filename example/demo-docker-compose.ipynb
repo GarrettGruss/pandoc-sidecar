{
 "cells": [
  {
   "cell_type": "markdown",
   "id": "9twzs0ruk3k",
   "metadata": {},
   "source": [
    "# Pandoc Sidecar Demo\n",
    "\n",
    "This notebook demonstrates how to use the pandoc/extra CLI to render LaTeX files.\n",
    "\n",
    "## Prerequisites\n",
    "\n",
    "Before running this demo, ensure you have the following installed:\n",
    "- Docker (for containerized pandoc)\n",
    "\n",
    "### Verify pandoc service is running and test basic functionality\n",
    "\n",
    "`docker-compose run --rm pandoc-extra pandoc --version`"
   ]
  },
  {
   "cell_type": "code",
   "execution_count": null,
   "id": "d7e51ec8",
   "metadata": {},
   "outputs": [],
   "source": [
    "import subprocess\n",
    "import os"
   ]
  },
  {
   "cell_type": "markdown",
   "id": "zil8e5bfcx",
   "metadata": {},
   "source": [
    "## 1. Check pandoc CLI availability"
   ]
  },
  {
   "cell_type": "code",
   "execution_count": null,
   "id": "83daedb9",
   "metadata": {},
   "outputs": [
    {
     "name": "stdout",
     "output_type": "stream",
     "text": [
      "pandoc 3.7.0.2\n",
      "Features: +server +lua\n",
      "Scripting engine: Lua 5.4\n",
      "User data directory: /usr/local/share/pandoc\n",
      "Copyright (C) 2006-2024 John MacFarlane. Web: https://pandoc.org\n",
      "This is free software; see the source for copying conditions. There is no\n",
      "warranty, not even for merchantability or fitness for a particular purpose.\n",
      "\n"
     ]
    }
   ],
   "source": [
    "cmd = ['docker-compose', 'run', '--rm', 'pandoc-extra', 'pandoc', '--version']\n",
    "result = subprocess.run(cmd, capture_output=True, text=True, check=True, cwd='..')\n",
    "print(result.stdout)"
   ]
  },
  {
   "cell_type": "markdown",
   "id": "6865bcbf",
   "metadata": {},
   "source": [
    "Pandoc outputs a standard message, which we can parse."
   ]
  },
  {
   "cell_type": "code",
   "execution_count": 1,
   "id": "a75c389d",
   "metadata": {},
   "outputs": [
    {
     "name": "stdout",
     "output_type": "stream",
     "text": [
      "{'version': '3.7.0.2', 'features': '+server +lua', 'scripting_engine': 'Lua 5.4', 'user_data_directory': '/usr/local/share/pandoc', 'copyright': 'Copyright (C) 2006-2024 John MacFarlane. Web: https://pandoc.org This is free software; see the source for copying conditions. There is no warranty, not even for merchantability or fitness for a particular purpose.'}\n"
     ]
    }
   ],
   "source": [
    "def parse_pandoc_message(message: str) -> dict:\n",
    "    lines = message.strip().splitlines()\n",
    "    return {\n",
    "        \"version\": lines[0].split(\" \")[1],\n",
    "        \"features\": lines[1].split(\":\")[1].strip(),\n",
    "        \"scripting_engine\": lines[2].split(\":\")[1].strip(),\n",
    "        \"user_data_directory\": lines[3].split(\":\")[1].strip(),\n",
    "        \"copyright\": \" \".join(lines[4:])\n",
    "    }\n",
    "\n",
    "# Test the parser on an example message\n",
    "print(parse_pandoc_message(\n",
    "\"\"\"\n",
    "pandoc 3.7.0.2\n",
    "Features: +server +lua\n",
    "Scripting engine: Lua 5.4\n",
    "User data directory: /usr/local/share/pandoc\n",
    "Copyright (C) 2006-2024 John MacFarlane. Web: https://pandoc.org\n",
    "This is free software; see the source for copying conditions. There is no\n",
    "warranty, not even for merchantability or fitness for a particular purpose.\n",
    "\"\"\"\n",
    "))"
   ]
  },
  {
   "cell_type": "markdown",
   "id": "fotukncnz5w",
   "metadata": {},
   "source": [
    "## 2. Render LaTeX to PDF\n",
    "\n",
    "note: when this is productionized, the fastapi client will need to parse the sent files, check for a main file and throw an error if missing. It should assume the other files are supporting."
   ]
  },
  {
   "cell_type": "code",
   "execution_count": null,
   "id": "843c84ff",
   "metadata": {},
   "outputs": [
    {
     "name": "stdout",
     "output_type": "stream",
     "text": [
      "\n"
     ]
    }
   ],
   "source": [
    "input_file = \"input/basic_example.tex\"\n",
    "output_file = \"output/basic_example.pdf\"\n",
    "workspace = os.path.abspath('.')\n",
    "\n",
    "cmd = ['docker-compose', 'run', '--rm',\n",
    "    '-v', f'{workspace}:/workspace',\n",
    "    'pandoc-extra',\n",
    "    f'/workspace/{input_file}',\n",
    "    '-o', f'/workspace/{output_file}',\n",
    "    '--pdf-engine=pdflatex']\n",
    "try:\n",
    "    result = subprocess.run(cmd, capture_output=True, text=True, check=True, cwd='..')\n",
    "    print(result.stdout)\n",
    "except subprocess.CalledProcessError as e:\n",
    "    print(f\"Error rendering PDF: {e}\")\n",
    "    if e.stderr:\n",
    "        print(\"Error details:\")\n",
    "        print(e.stderr)"
   ]
  },
  {
   "cell_type": "markdown",
   "id": "rptbp331gpb",
   "metadata": {},
   "source": [
    "## 3. Render LaTeX to HTML"
   ]
  },
  {
   "cell_type": "code",
   "execution_count": null,
   "id": "c7913538",
   "metadata": {},
   "outputs": [
    {
     "name": "stdout",
     "output_type": "stream",
     "text": [
      "\n"
     ]
    }
   ],
   "source": [
    "output_file = \"output/basic_example.html\"\n",
    "cmd = ['docker-compose', 'run', '--rm', \n",
    "    '-v', f'{workspace}:/workspace',\n",
    "    'pandoc-extra',\n",
    "    f'/workspace/{input_file}',\n",
    "    '-o', f'/workspace/{output_file}', \n",
    "    '--standalone', '--mathjax']\n",
    "\n",
    "try:\n",
    "    result = subprocess.run(cmd, capture_output=True, text=True, check=True, cwd='..')\n",
    "    print(result.stdout)\n",
    "except subprocess.CalledProcessError as e:\n",
    "    print(f\"Error rendering PDF: {e}\")\n",
    "    if e.stderr:\n",
    "        print(\"Error details:\")\n",
    "        print(e.stderr)"
   ]
  },
  {
   "cell_type": "markdown",
   "id": "oizvn2hln1t",
   "metadata": {},
   "source": [
    "## 4. Render LaTeX to Markdown"
   ]
  },
  {
   "cell_type": "code",
   "execution_count": 20,
   "id": "d24cw8g2you",
   "metadata": {},
   "outputs": [
    {
     "name": "stdout",
     "output_type": "stream",
     "text": [
      "\n"
     ]
    }
   ],
   "source": [
    "# Render LaTeX to Markdown using pandoc CLI\n",
    "output_file = \"output/basic_example.md\"\n",
    "cmd = ['docker-compose', 'run', '--rm', \n",
    "    '-v', f'{workspace}:/workspace',\n",
    "    'pandoc-extra',\n",
    "    f'/workspace/{input_file}',\n",
    "    '-o', f'/workspace/{output_file}', \n",
    "    '--from=latex', '--to=markdown']\n",
    "\n",
    "try:\n",
    "    result = subprocess.run(cmd, capture_output=True, text=True, check=True, cwd='..')\n",
    "    print(result.stdout)\n",
    "except subprocess.CalledProcessError as e:\n",
    "    print(f\"Error rendering PDF: {e}\")\n",
    "    if e.stderr:\n",
    "        print(\"Error details:\")\n",
    "        print(e.stderr)"
   ]
  }
 ],
 "metadata": {
  "kernelspec": {
   "display_name": "pandoc-sidecar (3.12.3)",
   "language": "python",
   "name": "python3"
  },
  "language_info": {
   "codemirror_mode": {
    "name": "ipython",
    "version": 3
   },
   "file_extension": ".py",
   "mimetype": "text/x-python",
   "name": "python",
   "nbconvert_exporter": "python",
   "pygments_lexer": "ipython3",
   "version": "3.12.3"
  }
 },
 "nbformat": 4,
 "nbformat_minor": 5
}
