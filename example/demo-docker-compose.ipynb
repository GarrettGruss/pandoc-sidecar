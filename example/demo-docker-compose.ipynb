{
 "cells": [
  {
   "cell_type": "markdown",
   "id": "9twzs0ruk3k",
   "metadata": {},
   "source": [
    "# Pandoc Sidecar Demo\n",
    "\n",
    "This notebook demonstrates how to use the pandoc/extra CLI to render LaTeX files."
   ]
  },
  {
   "cell_type": "markdown",
   "id": "2vjm1wo18eu",
   "metadata": {},
   "source": [
    "## Prerequisites\n",
    "\n",
    "Before running this demo, ensure you have the following installed:\n",
    "- Docker (for containerized pandoc)"
   ]
  },
  {
   "cell_type": "markdown",
   "id": "d7yfzl3g01p",
   "metadata": {},
   "source": [
    "### Verify pandoc service is running and test basic functionality"
   ]
  },
  {
   "cell_type": "code",
   "execution_count": 13,
   "id": "d7e51ec8",
   "metadata": {},
   "outputs": [],
   "source": [
    "import subprocess\n",
    "import os\n",
    "import sys"
   ]
  },
  {
   "cell_type": "code",
   "execution_count": 12,
   "id": "83daedb9",
   "metadata": {},
   "outputs": [
    {
     "name": "stdout",
     "output_type": "stream",
     "text": [
      "pandoc 3.7.0.2\n",
      "Features: +server +lua\n",
      "Scripting engine: Lua 5.4\n",
      "User data directory: /usr/local/share/pandoc\n",
      "Copyright (C) 2006-2024 John MacFarlane. Web: https://pandoc.org\n",
      "This is free software; see the source for copying conditions. There is no\n",
      "warranty, not even for merchantability or fitness for a particular purpose.\n",
      "\n"
     ]
    }
   ],
   "source": [
    "result = subprocess.run(['docker-compose', 'run', '--rm', 'pandoc-extra', 'pandoc', '--version'],\n",
    "                        capture_output=True, text=True, check=True, cwd='..')\n",
    "print(result.stdout)"
   ]
  },
  {
   "cell_type": "markdown",
   "id": "zil8e5bfcx",
   "metadata": {},
   "source": [
    "## 2. Check pandoc CLI availability"
   ]
  },
  {
   "cell_type": "code",
   "execution_count": null,
   "id": "dq2aaj6kl3t",
   "metadata": {},
   "outputs": [],
   "source": [
    "# Check if pandoc is available\n",
    "try:\n",
    "    result = subprocess.run(['pandoc', '--version'], \n",
    "                          capture_output=True, text=True, check=True)\n",
    "    print(\"✓ Pandoc is available\")\n",
    "    print(\"Version info:\")\n",
    "    print(result.stdout.split('\\n')[0])  # First line contains version\n",
    "except subprocess.CalledProcessError:\n",
    "    print(\"✗ Pandoc not found or error occurred\")\n",
    "except FileNotFoundError:\n",
    "    print(\"✗ Pandoc not installed or not in PATH\")"
   ]
  },
  {
   "cell_type": "markdown",
   "id": "198efuxoonu",
   "metadata": {},
   "source": [
    "## 3. Check if input LaTeX file exists"
   ]
  },
  {
   "cell_type": "code",
   "execution_count": null,
   "id": "o8c98x8e6h9",
   "metadata": {},
   "outputs": [],
   "source": [
    "# Check the basic example file\n",
    "input_file = \"test/data/basic_example.tex\"\n",
    "if os.path.exists(input_file):\n",
    "    print(f\"✓ Input file found: {input_file}\")\n",
    "    \n",
    "    # Read and display the LaTeX content\n",
    "    with open(input_file, 'r') as f:\n",
    "        content = f.read()\n",
    "    print(\"\\nLaTeX content:\")\n",
    "    print(content)\n",
    "else:\n",
    "    print(f\"✗ Input file not found: {input_file}\")"
   ]
  },
  {
   "cell_type": "markdown",
   "id": "fotukncnz5w",
   "metadata": {},
   "source": [
    "## 4. Render LaTeX to PDF"
   ]
  },
  {
   "cell_type": "code",
   "execution_count": null,
   "id": "qcw6qvl59f",
   "metadata": {},
   "outputs": [],
   "source": [
    "# Render LaTeX to PDF using pandoc CLI\n",
    "output_pdf = \"output/basic_example.pdf\"\n",
    "\n",
    "# Create output directory if it doesn't exist\n",
    "os.makedirs(\"output\", exist_ok=True)\n",
    "\n",
    "try:\n",
    "    # Use pandoc CLI to convert LaTeX to PDF\n",
    "    cmd = ['pandoc', input_file, '-o', output_pdf, '--pdf-engine=pdflatex']\n",
    "    result = subprocess.run(cmd, capture_output=True, text=True, check=True)\n",
    "    \n",
    "    print(f\"✓ PDF rendered successfully: {output_pdf}\")\n",
    "    if os.path.exists(output_pdf):\n",
    "        file_size = os.path.getsize(output_pdf)\n",
    "        print(f\"  File size: {file_size} bytes\")\n",
    "    \n",
    "    if result.stderr:\n",
    "        print(\"Warnings/Info:\")\n",
    "        print(result.stderr)\n",
    "        \n",
    "except subprocess.CalledProcessError as e:\n",
    "    print(f\"✗ Error rendering PDF: {e}\")\n",
    "    if e.stderr:\n",
    "        print(\"Error details:\")\n",
    "        print(e.stderr)\n",
    "except FileNotFoundError:\n",
    "    print(\"✗ Pandoc not found. Please install pandoc first.\")"
   ]
  },
  {
   "cell_type": "markdown",
   "id": "rptbp331gpb",
   "metadata": {},
   "source": [
    "## 5. Render LaTeX to HTML"
   ]
  },
  {
   "cell_type": "code",
   "execution_count": null,
   "id": "ovmdts708tp",
   "metadata": {},
   "outputs": [],
   "source": [
    "# Render LaTeX to HTML using pandoc CLI\n",
    "output_html = \"output/basic_example.html\"\n",
    "\n",
    "try:\n",
    "    # Use pandoc CLI to convert LaTeX to HTML\n",
    "    cmd = ['pandoc', input_file, '-o', output_html, '--standalone', '--mathjax']\n",
    "    result = subprocess.run(cmd, capture_output=True, text=True, check=True)\n",
    "    \n",
    "    print(f\"✓ HTML rendered successfully: {output_html}\")\n",
    "    if os.path.exists(output_html):\n",
    "        file_size = os.path.getsize(output_html)\n",
    "        print(f\"  File size: {file_size} bytes\")\n",
    "        \n",
    "        # Display a preview of the HTML content\n",
    "        with open(output_html, 'r') as f:\n",
    "            html_content = f.read()\n",
    "        print(\"\\\\nHTML preview (first 300 characters):\")\n",
    "        print(html_content[:300] + \"...\" if len(html_content) > 300 else html_content)\n",
    "    \n",
    "    if result.stderr:\n",
    "        print(\"Warnings/Info:\")\n",
    "        print(result.stderr)\n",
    "        \n",
    "except subprocess.CalledProcessError as e:\n",
    "    print(f\"✗ Error rendering HTML: {e}\")\n",
    "    if e.stderr:\n",
    "        print(\"Error details:\")\n",
    "        print(e.stderr)"
   ]
  },
  {
   "cell_type": "markdown",
   "id": "oizvn2hln1t",
   "metadata": {},
   "source": [
    "## 6. Render LaTeX to Markdown"
   ]
  },
  {
   "cell_type": "code",
   "execution_count": null,
   "id": "d24cw8g2you",
   "metadata": {},
   "outputs": [],
   "source": [
    "# Render LaTeX to Markdown using pandoc CLI\n",
    "output_md = \"output/basic_example.md\"\n",
    "\n",
    "try:\n",
    "    # Use pandoc CLI to convert LaTeX to Markdown\n",
    "    cmd = ['pandoc', input_file, '-o', output_md, '--from=latex', '--to=markdown']\n",
    "    result = subprocess.run(cmd, capture_output=True, text=True, check=True)\n",
    "    \n",
    "    print(f\"✓ Markdown rendered successfully: {output_md}\")\n",
    "    if os.path.exists(output_md):\n",
    "        file_size = os.path.getsize(output_md)\n",
    "        print(f\"  File size: {file_size} bytes\")\n",
    "        \n",
    "        # Display the Markdown content\n",
    "        with open(output_md, 'r') as f:\n",
    "            md_content = f.read()\n",
    "        print(\"\\\\nMarkdown content:\")\n",
    "        print(md_content)\n",
    "    \n",
    "    if result.stderr:\n",
    "        print(\"Warnings/Info:\")\n",
    "        print(result.stderr)\n",
    "        \n",
    "except subprocess.CalledProcessError as e:\n",
    "    print(f\"✗ Error rendering Markdown: {e}\")\n",
    "    if e.stderr:\n",
    "        print(\"Error details:\")\n",
    "        print(e.stderr)"
   ]
  },
  {
   "cell_type": "markdown",
   "id": "zgsq3vufyur",
   "metadata": {},
   "source": [
    "## 7. List all generated output files"
   ]
  },
  {
   "cell_type": "code",
   "execution_count": null,
   "id": "emvw9j38yhk",
   "metadata": {},
   "outputs": [],
   "source": [
    "# List all generated output files\n",
    "if os.path.exists(\"output\"):\n",
    "    print(\"Generated output files:\")\n",
    "    for file in sorted(os.listdir(\"output\")):\n",
    "        file_path = os.path.join(\"output\", file)\n",
    "        if os.path.isfile(file_path):\n",
    "            file_size = os.path.getsize(file_path)\n",
    "            print(f\"  📄 {file} ({file_size:,} bytes)\")\n",
    "else:\n",
    "    print(\"No output directory found\")"
   ]
  },
  {
   "cell_type": "markdown",
   "id": "sdwltkdwqfo",
   "metadata": {},
   "source": [
    "## 8. Test with Docker Compose pandoc service"
   ]
  },
  {
   "cell_type": "code",
   "execution_count": null,
   "id": "tz9quar0oas",
   "metadata": {},
   "outputs": [],
   "source": [
    "# Use docker-compose to run pandoc commands\n",
    "# This uses the pandoc service defined in docker-compose.yaml\n",
    "\n",
    "def run_pandoc_compose(input_file, output_file, extra_args=None):\n",
    "    \"\"\"Run pandoc using the docker-compose pandoc service\"\"\"\n",
    "    if extra_args is None:\n",
    "        extra_args = []\n",
    "\n",
    "    # Copy input file to docker volume\n",
    "    copy_cmd = ['docker', 'cp', input_file, 'pandoc:/input/']\n",
    "    subprocess.run(copy_cmd, capture_output=True, text=True, check=True)\n",
    "\n",
    "    # Build pandoc command\n",
    "    input_basename = os.path.basename(input_file)\n",
    "    output_basename = os.path.basename(output_file)\n",
    "\n",
    "    cmd = [\n",
    "        'docker-compose', 'exec', '-T', 'pandoc-extra',\n",
    "        'pandoc', f'/input/{input_basename}',\n",
    "        '-o', f'/output/{output_basename}'\n",
    "    ] + extra_args\n",
    "\n",
    "    result = subprocess.run(cmd, capture_output=True, text=True, cwd='..')\n",
    "\n",
    "    # Copy output file from docker volume\n",
    "    if result.returncode == 0:\n",
    "        copy_cmd = ['docker', 'cp', f'pandoc:/output/{output_basename}', output_file]\n",
    "        subprocess.run(copy_cmd, capture_output=True, text=True, check=True)\n",
    "\n",
    "    return result\n",
    "\n",
    "# Test multiple formats with Docker Compose\n",
    "try:\n",
    "    print(\"Testing pandoc service with multiple output formats...\")\n",
    "\n",
    "    # Test PDF generation\n",
    "    docker_pdf = \"output/docker_compose_example.pdf\"\n",
    "    result = run_pandoc_compose(input_file, docker_pdf, ['--pdf-engine=pdflatex'])\n",
    "\n",
    "    if result.returncode == 0:\n",
    "        print(f\"✓ Docker Compose PDF rendered: {docker_pdf}\")\n",
    "        if os.path.exists(docker_pdf):\n",
    "            file_size = os.path.getsize(docker_pdf)\n",
    "            print(f\"  File size: {file_size:,} bytes\")\n",
    "    else:\n",
    "        print(f\"✗ Docker Compose PDF failed: {result.stderr}\")\n",
    "\n",
    "    # Test HTML generation\n",
    "    docker_html = \"output/docker_compose_example.html\"\n",
    "    result = run_pandoc_compose(input_file, docker_html, ['--standalone', '--mathjax'])\n",
    "\n",
    "    if result.returncode == 0:\n",
    "        print(f\"✓ Docker Compose HTML rendered: {docker_html}\")\n",
    "        if os.path.exists(docker_html):\n",
    "            file_size = os.path.getsize(docker_html)\n",
    "            print(f\"  File size: {file_size:,} bytes\")\n",
    "    else:\n",
    "        print(f\"✗ Docker Compose HTML failed: {result.stderr}\")\n",
    "\n",
    "    # Test DOCX generation\n",
    "    docker_docx = \"output/docker_compose_example.docx\"\n",
    "    result = run_pandoc_compose(input_file, docker_docx)\n",
    "\n",
    "    if result.returncode == 0:\n",
    "        print(f\"✓ Docker Compose DOCX rendered: {docker_docx}\")\n",
    "        if os.path.exists(docker_docx):\n",
    "            file_size = os.path.getsize(docker_docx)\n",
    "            print(f\"  File size: {file_size:,} bytes\")\n",
    "    else:\n",
    "        print(f\"✗ Docker Compose DOCX failed: {result.stderr}\")\n",
    "\n",
    "except Exception as e:\n",
    "    print(f\"✗ Docker Compose test failed: {e}\")"
   ]
  },
  {
   "cell_type": "markdown",
   "id": "rt6x8uni9us",
   "metadata": {},
   "source": [
    "## Minikube Deployment Instructions\n",
    "\n",
    "### Setup Minikube and deploy pandoc/extra:3.7"
   ]
  },
  {
   "cell_type": "code",
   "execution_count": null,
   "id": "jtl2ub4krp",
   "metadata": {},
   "outputs": [],
   "source": [
    "# Check Minikube status and start if needed\n",
    "try:\n",
    "    # Check if minikube is running\n",
    "    result = subprocess.run(['minikube', 'status'], \n",
    "                          capture_output=True, text=True)\n",
    "    \n",
    "    if result.returncode == 0 and 'Running' in result.stdout:\n",
    "        print(\"✓ Minikube is already running\")\n",
    "        print(result.stdout)\n",
    "    else:\n",
    "        print(\"Starting Minikube...\")\n",
    "        result = subprocess.run(['minikube', 'start'], \n",
    "                              capture_output=True, text=True, check=True)\n",
    "        print(\"✓ Minikube started successfully\")\n",
    "        \n",
    "    # Get minikube version\n",
    "    result = subprocess.run(['minikube', 'version'], \n",
    "                          capture_output=True, text=True, check=True)\n",
    "    print(f\"Minikube version: {result.stdout.split()[2]}\")\n",
    "    \n",
    "except subprocess.CalledProcessError as e:\n",
    "    print(f\"✗ Minikube error: {e}\")\n",
    "    if e.stderr:\n",
    "        print(\"Error details:\", e.stderr.strip())\n",
    "except FileNotFoundError:\n",
    "    print(\"✗ Minikube not found. Please install Minikube first.\")"
   ]
  },
  {
   "cell_type": "markdown",
   "id": "rcn9q8ptopj",
   "metadata": {},
   "source": [
    "### Create Kubernetes deployment for pandoc/extra:3.7"
   ]
  },
  {
   "cell_type": "code",
   "execution_count": null,
   "id": "yk6qkzjc3jm",
   "metadata": {},
   "outputs": [],
   "source": [
    "# Create Kubernetes YAML configuration for pandoc/extra:3.7\n",
    "k8s_config = '''apiVersion: v1\n",
    "kind: Pod\n",
    "metadata:\n",
    "  name: pandoc-extra-pod\n",
    "  labels:\n",
    "    app: pandoc-extra\n",
    "spec:\n",
    "  containers:\n",
    "  - name: pandoc-container\n",
    "    image: pandoc/extra:3.7\n",
    "    command: [\"sleep\", \"infinity\"]  # Keep container running\n",
    "    volumeMounts:\n",
    "    - name: shared-data\n",
    "      mountPath: /data\n",
    "    resources:\n",
    "      requests:\n",
    "        memory: \"256Mi\"\n",
    "        cpu: \"250m\"\n",
    "      limits:\n",
    "        memory: \"512Mi\"\n",
    "        cpu: \"500m\"\n",
    "  volumes:\n",
    "  - name: shared-data\n",
    "    emptyDir: {}\n",
    "---\n",
    "apiVersion: v1\n",
    "kind: Service\n",
    "metadata:\n",
    "  name: pandoc-service\n",
    "spec:\n",
    "  selector:\n",
    "    app: pandoc-extra\n",
    "  ports:\n",
    "  - port: 80\n",
    "    targetPort: 8080\n",
    "    protocol: TCP\n",
    "  type: ClusterIP\n",
    "'''\n",
    "\n",
    "# Write the configuration to a file\n",
    "k8s_config_file = \"k8s-pandoc-deployment.yaml\"\n",
    "with open(k8s_config_file, 'w') as f:\n",
    "    f.write(k8s_config)\n",
    "\n",
    "print(f\"✓ Created Kubernetes configuration: {k8s_config_file}\")\n",
    "print(\"Configuration contents:\")\n",
    "print(k8s_config)"
   ]
  },
  {
   "cell_type": "markdown",
   "id": "3n0pn18j8ee",
   "metadata": {},
   "source": [
    "### Deploy to Minikube and test"
   ]
  },
  {
   "cell_type": "code",
   "execution_count": null,
   "id": "bwecagyalq6",
   "metadata": {},
   "outputs": [],
   "source": [
    "# Deploy to Minikube and test the pandoc pod\n",
    "try:\n",
    "    # Apply the Kubernetes configuration\n",
    "    print(\"Deploying pandoc/extra:3.7 to Minikube...\")\n",
    "    result = subprocess.run(['kubectl', 'apply', '-f', k8s_config_file], \n",
    "                          capture_output=True, text=True, check=True)\n",
    "    print(\"✓ Deployment applied successfully\")\n",
    "    print(result.stdout)\n",
    "    \n",
    "    # Wait a moment for pod to start\n",
    "    import time\n",
    "    print(\"Waiting for pod to start...\")\n",
    "    time.sleep(5)\n",
    "    \n",
    "    # Check pod status\n",
    "    result = subprocess.run(['kubectl', 'get', 'pods', '-l', 'app=pandoc-extra'], \n",
    "                          capture_output=True, text=True, check=True)\n",
    "    print(\"Pod status:\")\n",
    "    print(result.stdout)\n",
    "    \n",
    "    # Test pandoc in the pod\n",
    "    print(\"\\\\nTesting pandoc in Kubernetes pod...\")\n",
    "    result = subprocess.run(['kubectl', 'exec', 'pandoc-extra-pod', '--', 'pandoc', '--version'], \n",
    "                          capture_output=True, text=True)\n",
    "    \n",
    "    if result.returncode == 0:\n",
    "        print(\"✓ Pandoc working in Kubernetes pod\")\n",
    "        print(\"Version:\", result.stdout.split('\\\\n')[0])\n",
    "    else:\n",
    "        print(\"Pod might still be starting. Check status with: kubectl get pods\")\n",
    "        \n",
    "    # Show service status\n",
    "    result = subprocess.run(['kubectl', 'get', 'services', 'pandoc-service'], \n",
    "                          capture_output=True, text=True)\n",
    "    if result.returncode == 0:\n",
    "        print(\"\\\\nService status:\")\n",
    "        print(result.stdout)\n",
    "    \n",
    "except subprocess.CalledProcessError as e:\n",
    "    print(f\"✗ Kubernetes deployment error: {e}\")\n",
    "    if e.stderr:\n",
    "        print(\"Error details:\", e.stderr.strip())\n",
    "except FileNotFoundError:\n",
    "    print(\"✗ kubectl not found. Please install kubectl first.\")"
   ]
  },
  {
   "cell_type": "markdown",
   "id": "6gv9jqk669",
   "metadata": {},
   "source": [
    "### Cleanup Kubernetes resources (optional)"
   ]
  },
  {
   "cell_type": "code",
   "execution_count": null,
   "id": "9yc31ejgy3",
   "metadata": {},
   "outputs": [],
   "source": [
    "# Cleanup Kubernetes resources when done\n",
    "# Uncomment the lines below to clean up the deployment\n",
    "\n",
    "cleanup = False  # Set to True to perform cleanup\n",
    "\n",
    "if cleanup:\n",
    "    try:\n",
    "        print(\"Cleaning up Kubernetes resources...\")\n",
    "        \n",
    "        # Delete the deployment\n",
    "        result = subprocess.run(['kubectl', 'delete', '-f', k8s_config_file], \n",
    "                              capture_output=True, text=True, check=True)\n",
    "        print(\"✓ Kubernetes resources deleted\")\n",
    "        print(result.stdout)\n",
    "        \n",
    "        # Remove the config file\n",
    "        os.remove(k8s_config_file)\n",
    "        print(f\"✓ Removed {k8s_config_file}\")\n",
    "        \n",
    "    except subprocess.CalledProcessError as e:\n",
    "        print(f\"✗ Cleanup error: {e}\")\n",
    "        if e.stderr:\n",
    "            print(\"Error details:\", e.stderr.strip())\n",
    "else:\n",
    "    print(\"Cleanup skipped. Set cleanup=True to remove Kubernetes resources.\")\n",
    "    print(f\"To manually cleanup later, run: kubectl delete -f {k8s_config_file}\")"
   ]
  },
  {
   "cell_type": "code",
   "execution_count": null,
   "id": "d8ec0c50",
   "metadata": {},
   "outputs": [],
   "source": []
  }
 ],
 "metadata": {
  "kernelspec": {
   "display_name": "pandoc-sidecar (3.12.3)",
   "language": "python",
   "name": "python3"
  },
  "language_info": {
   "codemirror_mode": {
    "name": "ipython",
    "version": 3
   },
   "file_extension": ".py",
   "mimetype": "text/x-python",
   "name": "python",
   "nbconvert_exporter": "python",
   "pygments_lexer": "ipython3",
   "version": "3.12.3"
  }
 },
 "nbformat": 4,
 "nbformat_minor": 5
}
