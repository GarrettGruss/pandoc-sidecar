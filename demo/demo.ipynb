{
 "cells": [
  {
   "cell_type": "markdown",
   "id": "9twzs0ruk3k",
   "metadata": {},
   "source": [
    "# Pandoc Sidecar Demo\n",
    "\n",
    "This notebook demonstrates how to use the pandoc/extra CLI to render LaTeX files.\n",
    "\n",
    "## Prerequisites\n",
    "\n",
    "Before running this demo, ensure you have the following installed:\n",
    "- Docker (for containerized pandoc)\n",
    "- Minikube (for Kubernetes deployment)\n",
    "- Python 3.12+ with subprocess module"
   ]
  },
  {
   "cell_type": "code",
   "execution_count": 2,
   "id": "5eo75z0uz4r",
   "metadata": {},
   "outputs": [],
   "source": [
    "import subprocess\n",
    "import os\n",
    "import sys"
   ]
  },
  {
   "cell_type": "markdown",
   "id": "c93b694f",
   "metadata": {},
   "source": [
    "## 1. Pull the pandoc/extra image"
   ]
  },
  {
   "cell_type": "code",
   "execution_count": null,
   "id": "9jk3hf3nfjo",
   "metadata": {},
   "outputs": [
    {
     "name": "stdout",
     "output_type": "stream",
     "text": [
      "Output: 3.7: Pulling from pandoc/extra\n",
      "Digest: sha256:a703d335fa237f8fc3303329d87e2555dca5187930da38bfa9010fa4e690933a\n",
      "Status: Image is up to date for pandoc/extra:3.7\n",
      "docker.io/pandoc/extra:3.7\n"
     ]
    }
   ],
   "source": [
    "def pull_image(image, platform) -> str:\n",
    "    if platform:\n",
    "        cmd = ['docker', 'pull', '--platform', platform, image]\n",
    "    else:\n",
    "        cmd = ['docker', 'pull', image]\n",
    "    \n",
    "    return subprocess.run(cmd, capture_output=True, text=True, check=True).stdout\n",
    "\n",
    "# Pull the pandoc/extra:3.7 image\n",
    "# note, the --platform linux/amd64 is required as my dev machine is arm based.\n",
    "try:\n",
    "    result = pull_image(\n",
    "        image='pandoc/extra:3.7', \n",
    "        platform='linux/amd64'\n",
    "        )\n",
    "    \n",
    "    if result:\n",
    "        print(\"Output:\", result.strip())\n",
    "except subprocess.CalledProcessError as e:\n",
    "    if e.stderr:\n",
    "        print(\"Error:\", e.stderr.strip())\n",
    "except FileNotFoundError:\n",
    "    print(\"Docker not found. Please install Docker first.\")"
   ]
  },
  {
   "cell_type": "markdown",
   "id": "d7yfzl3g01p",
   "metadata": {},
   "source": [
    "### Verify Docker image and test basic functionality"
   ]
  },
  {
   "cell_type": "code",
   "execution_count": 11,
   "id": "ii30dodd27",
   "metadata": {},
   "outputs": [
    {
     "name": "stdout",
     "output_type": "stream",
     "text": [
      "✓ pandoc/extra:3.7 image found locally\n",
      "Image details:\n",
      "REPOSITORY     TAG       IMAGE ID       CREATED      SIZE\n",
      "pandoc/extra   3.7       a703d335fa23   8 days ago   1.63GB\n",
      "\n",
      "\n",
      "Testing pandoc version in container...\n",
      "✓ Pandoc container working\n",
      "Version info:\n",
      "pandoc 3.7.0.2\n"
     ]
    }
   ],
   "source": [
    "# Verify the pandoc/extra image and test basic functionality\n",
    "def image_version(image) -> str:\n",
    "    return subprocess.run(['docker', 'run', '--rm', image, '--version'], capture_output=True, text=True, check=True).stdout\n",
    "\n",
    "try:\n",
    "    # Check if image exists locally\n",
    "    result = subprocess.run(['docker', 'images', 'pandoc/extra:3.7', '--format', 'table'], \n",
    "                          capture_output=True, text=True, check=True)\n",
    "    print(\"✓ pandoc/extra:3.7 image found locally\")\n",
    "    print(\"Image details:\")\n",
    "    print(result.stdout)\n",
    "    \n",
    "    # Test pandoc version in container\n",
    "    print(\"\\nTesting pandoc version in container...\")\n",
    "    result = image_version('pandoc/extra:3.7')\n",
    "    print(\"✓ Pandoc container working\")\n",
    "    print(\"Version info:\")\n",
    "    print(result.split('\\n')[0])  # First line contains version\n",
    "    \n",
    "except subprocess.CalledProcessError as e:\n",
    "    print(f\"✗ Error testing Docker image: {e}\")\n",
    "    if e.stderr:\n",
    "        print(\"Error details:\", e.stderr.strip())"
   ]
  },
  {
   "cell_type": "markdown",
   "id": "198efuxoonu",
   "metadata": {},
   "source": [
    "## 3. Setup input and output directories"
   ]
  },
  {
   "cell_type": "code",
   "execution_count": null,
   "id": "o8c98x8e6h9",
   "metadata": {},
   "outputs": [
    {
     "name": "stdout",
     "output_type": "stream",
     "text": [
      "✓ Input directory: input\n",
      "✓ Output directory: output\n",
      "\n",
      "Found 1 files to process:\n",
      "  📄 basic_example.tex (235 bytes)\n"
     ]
    }
   ],
   "source": [
    "# Setup input and output directories\n",
    "input_dir = \"input\"\n",
    "output_dir = \"output\"\n",
    "\n",
    "# Create directories if they don't exist\n",
    "os.makedirs(input_dir, exist_ok=True)\n",
    "os.makedirs(output_dir, exist_ok=True)\n",
    "\n",
    "print(f\"✓ Input directory: {input_dir}\")\n",
    "print(f\"✓ Output directory: {output_dir}\")\n",
    "\n",
    "# Scan for input files\n",
    "def get_input_files(directory, extensions=None):\n",
    "    \"\"\"Get all files from input directory with specified extensions\"\"\"\n",
    "    if extensions is None:\n",
    "        extensions = ['.tex', '.md', '.rst', '.docx', '.html']\n",
    "    \n",
    "    files = []\n",
    "    if os.path.exists(directory):\n",
    "        for file in os.listdir(directory):\n",
    "            if any(file.lower().endswith(ext) for ext in extensions):\n",
    "                files.append(file)\n",
    "    return sorted(files)\n",
    "\n",
    "# Find all processable files\n",
    "input_files = get_input_files(input_dir)\n",
    "print(f\"\\nFound {len(input_files)} files to process:\")\n",
    "for file in input_files:\n",
    "    file_path = os.path.join(input_dir, file)\n",
    "    file_size = os.path.getsize(file_path) if os.path.exists(file_path) else 0\n",
    "    print(f\"{file} ({file_size:,} bytes)\")\n",
    "\n",
    "if not input_files:\n",
    "    print(\"No files found in input directory. Add some .tex, .md, or other supported files to get started.\")"
   ]
  },
  {
   "cell_type": "markdown",
   "id": "fotukncnz5w",
   "metadata": {},
   "source": [
    "## 4. Process file with pandoc CLI"
   ]
  },
  {
   "cell_type": "code",
   "execution_count": null,
   "id": "qcw6qvl59f",
   "metadata": {},
   "outputs": [
    {
     "name": "stdout",
     "output_type": "stream",
     "text": [
      "Processing files with local pandoc (if available):\n",
      "\n",
      "Processing: basic_example.tex\n",
      "\n",
      "📊 Summary: Converted ./output/basic_example.pdf\n"
     ]
    }
   ],
   "source": [
    "# Batch process all input files with pandoc CLI\n",
    "def pandoc_convert_file(input_file, output_format, input_dir, output_dir, image):\n",
    "    \"\"\"convert a single file.\"\"\"\n",
    "    input_path = os.path.join(input_dir, input_file)\n",
    "    base_name = os.path.splitext(input_file)[0]\n",
    "    \n",
    "    # determine pandoc options\n",
    "    if output_format == 'pdf':\n",
    "        pandoc_args = ['--pdf-engine=pdflatex']\n",
    "    elif output_format == 'html':\n",
    "        pandoc_args = ['--standalone', '--mathjax']\n",
    "    elif output_format == 'md':\n",
    "        pandoc_args = ['--to=markdown']\n",
    "    elif output_format == 'docx':\n",
    "        pandoc_args = []\n",
    "    else:\n",
    "        raise Exception('unsupported output format')\n",
    "        \n",
    "    output_file = f\"{base_name}.{output_format}\"\n",
    "    output_path = os.path.join(output_dir, output_file)\n",
    "    \n",
    "    current_dir = os.path.abspath('.')\n",
    "    cmd = [\n",
    "        'docker', 'run', '--platform', 'linux/amd64', '--rm',\n",
    "        '-v', f'{current_dir}:/data',\n",
    "        image,\n",
    "        f'/data/{input_path}',\n",
    "        '-o', f'/data/{output_path}'\n",
    "    ] + pandoc_args\n",
    "    \n",
    "    result = subprocess.run(cmd, capture_output=True, text=True, check=True)\n",
    "    \n",
    "    if not os.path.exists(output_path):\n",
    "        raise Exception(f'{output_format.upper()} output file not created')\n",
    "    \n",
    "    return output_path\n",
    "\n",
    "\n",
    "# Process all input files\n",
    "# note: during production, only the main file will need to be processed,\n",
    "# Each file may have a collection of images, supporting docs, etc.\n",
    "if input_files:  \n",
    "    for input_file in input_files:\n",
    "        print(f\"\\nProcessing: {input_file}\")\n",
    "        file_result = pandoc_convert_file(\n",
    "            input_file, \n",
    "            output_format='pdf',\n",
    "            input_dir='./input',\n",
    "            output_dir='./output',\n",
    "            image='pandoc/extra:3.7'\n",
    "        )\n",
    "\n",
    "    # Summary\n",
    "    print(f\"\\nConverted: {file_result}\")\n",
    "else:\n",
    "    print(\"No input files to process.\")"
   ]
  },
  {
   "cell_type": "markdown",
   "id": "ad6c2108",
   "metadata": {},
   "source": [
    "## 5. Cleanup output files"
   ]
  },
  {
   "cell_type": "code",
   "execution_count": null,
   "id": "52672c8f",
   "metadata": {},
   "outputs": [],
   "source": [
    "# Setup input and output directories\n",
    "input_dir = \"input\"\n",
    "output_dir = \"output\"\n",
    "\n",
    "# Scan for input files\n",
    "def remove_files(directory, extensions=None) -> list[str]:\n",
    "    \"\"\"Remove all files in a directory\"\"\"\n",
    "    files = []\n",
    "    if os.path.exists(directory):\n",
    "        for file in os.listdir(directory):\n",
    "            # add the name to the files list\n",
    "            # Delete the file\n",
    "    return files"
   ]
  }
 ],
 "metadata": {
  "kernelspec": {
   "display_name": "pandoc-sidecar (3.12.3)",
   "language": "python",
   "name": "python3"
  },
  "language_info": {
   "codemirror_mode": {
    "name": "ipython",
    "version": 3
   },
   "file_extension": ".py",
   "mimetype": "text/x-python",
   "name": "python",
   "nbconvert_exporter": "python",
   "pygments_lexer": "ipython3",
   "version": "3.12.3"
  }
 },
 "nbformat": 4,
 "nbformat_minor": 5
}
